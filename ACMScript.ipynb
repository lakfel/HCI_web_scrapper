{
 "cells": [
  {
   "cell_type": "code",
   "execution_count": 9,
   "metadata": {},
   "outputs": [
    {
     "name": "stdout",
     "output_type": "stream",
     "text": [
      "%28AllField%3A%28VR%29+OR+AllField%3A%28Virtual+reality%29+OR+AllField%3A%28augmented+reality%29+OR+AllField%3A%28AR%29+OR+AllField%3A%28Mixed+reality%29+or+OR+AllField%3A%28XR%29%29+AND+%28AllField%3A%28Multiuser%29+OR+AllField%3A%28multi-user%29+OR+AllField%3A%28collaborative%29%29\n"
     ]
    }
   ],
   "source": [
    "\n",
    "from urllib.parse import quote\n",
    "\n",
    "\n",
    "query = \"(AllField:(VR) OR AllField:(Virtual reality) OR AllField:(augmented reality) OR AllField:(AR) OR AllField:(Mixed reality) or OR AllField:(XR)) AND (AllField:(Multiuser) OR AllField:(multi-user) OR AllField:(collaborative))\"\n",
    "\n",
    "def encode_boolean_expression(expression: str) -> str:\n",
    "    expression = expression.replace(\" \", \"+\")  \n",
    "    return quote(expression, safe=\"+\") \n",
    "\n",
    "query_encoded = encode_boolean_expression(query)\n",
    "print(query_encoded)\n"
   ]
  },
  {
   "cell_type": "code",
   "execution_count": 10,
   "metadata": {},
   "outputs": [],
   "source": [
    "\n",
    "\n",
    "import requests\n",
    "from bs4 import BeautifulSoup\n",
    "\n",
    "# URL for the search\n",
    "url_base = \"https://dl.acm.org/action/doSearch?fillQuickSearch=false&target=advanced&expand=dl\"\n",
    "\n",
    "def add_parameter_to_url(url, parameter_name, parameter_value):\n",
    "    parameter_connector = \"&\"\n",
    "    parameter_assignment_str = \"=\"\n",
    "    return url + parameter_connector + parameter_name + parameter_assignment_str + parameter_value\n",
    "\n",
    "query_name = \"AllField\"\n",
    "\n",
    "url_base = add_parameter_to_url(url_base, query_name, query_encoded)\n",
    "\n",
    "page_prm_str = \"pageSize\"\n",
    "page_size = \"2\"\n",
    "url_base = add_parameter_to_url(url_base, page_prm_str, page_size) \n",
    "\n",
    "page_count_str = \"startPage\"\n",
    "page_count = 1\n",
    "url_page = add_parameter_to_url(url_base, page_count_str, str(page_count))\n",
    "\n"
   ]
  },
  {
   "cell_type": "code",
   "execution_count": 11,
   "metadata": {},
   "outputs": [],
   "source": [
    "\n",
    "import requests\n",
    "from bs4 import BeautifulSoup\n",
    "import time\n",
    "\n",
    "headers = {\n",
    "    \"User-Agent\": \"Mozilla/5.0 (Windows NT 10.0; Win64; x64) AppleWebKit/537.36 (KHTML, like Gecko) Chrome/85.0.4183.102 Safari/537.36\"\n",
    "}\n",
    "\n",
    "\n",
    "def get_total_query_results(soup: BeautifulSoup) -> int:\n",
    "    result_count_tag = soup.find(class_=\"result__count\") \n",
    "    result_count = int(result_count_tag.get_text().replace(\" Results\", \"\").replace(\",\",\"\"))\n",
    "    return result_count\n",
    "\n"
   ]
  },
  {
   "cell_type": "code",
   "execution_count": 12,
   "metadata": {},
   "outputs": [
    {
     "name": "stdout",
     "output_type": "stream",
     "text": [
      "Result count: 173565\n"
     ]
    },
    {
     "ename": "TypeError",
     "evalue": "'NoneType' object is not subscriptable",
     "output_type": "error",
     "traceback": [
      "\u001b[1;31m---------------------------------------------------------------------------\u001b[0m",
      "\u001b[1;31mTypeError\u001b[0m                                 Traceback (most recent call last)",
      "Cell \u001b[1;32mIn[12], line 26\u001b[0m\n\u001b[0;32m     23\u001b[0m     \u001b[38;5;28mprint\u001b[39m(\u001b[38;5;124m'\u001b[39m\u001b[38;5;124mResult count: \u001b[39m\u001b[38;5;124m'\u001b[39m \u001b[38;5;241m+\u001b[39m \u001b[38;5;28mstr\u001b[39m(result_count))\n\u001b[0;32m     24\u001b[0m     get_acm_papers_page(soup)\n\u001b[1;32m---> 26\u001b[0m \u001b[43mget_acm_papers\u001b[49m\u001b[43m(\u001b[49m\u001b[43murl_page\u001b[49m\u001b[43m)\u001b[49m\n",
      "Cell \u001b[1;32mIn[12], line 24\u001b[0m, in \u001b[0;36mget_acm_papers\u001b[1;34m(url)\u001b[0m\n\u001b[0;32m     22\u001b[0m result_count \u001b[38;5;241m=\u001b[39m get_total_query_results(soup)\n\u001b[0;32m     23\u001b[0m \u001b[38;5;28mprint\u001b[39m(\u001b[38;5;124m'\u001b[39m\u001b[38;5;124mResult count: \u001b[39m\u001b[38;5;124m'\u001b[39m \u001b[38;5;241m+\u001b[39m \u001b[38;5;28mstr\u001b[39m(result_count))\n\u001b[1;32m---> 24\u001b[0m \u001b[43mget_acm_papers_page\u001b[49m\u001b[43m(\u001b[49m\u001b[43msoup\u001b[49m\u001b[43m)\u001b[49m\n",
      "Cell \u001b[1;32mIn[12], line 5\u001b[0m, in \u001b[0;36mget_acm_papers_page\u001b[1;34m(soup)\u001b[0m\n\u001b[0;32m      3\u001b[0m publication_type \u001b[38;5;241m=\u001b[39m item\u001b[38;5;241m.\u001b[39mfind(\u001b[38;5;124m\"\u001b[39m\u001b[38;5;124mdiv.issue-heading\u001b[39m\u001b[38;5;124m\"\u001b[39m)\n\u001b[0;32m      4\u001b[0m date \u001b[38;5;241m=\u001b[39m item\u001b[38;5;241m.\u001b[39mfind(\u001b[38;5;124m\"\u001b[39m\u001b[38;5;124mdiv.bookPubDate \u001b[39m\u001b[38;5;124m\"\u001b[39m)\n\u001b[1;32m----> 5\u001b[0m date_str \u001b[38;5;241m=\u001b[39m \u001b[43mdate\u001b[49m\u001b[43m[\u001b[49m\u001b[38;5;124;43m'\u001b[39;49m\u001b[38;5;124;43mdata-title\u001b[39;49m\u001b[38;5;124;43m'\u001b[39;49m\u001b[43m]\u001b[49m\u001b[38;5;241m.\u001b[39mreplace(\u001b[38;5;124m'\u001b[39m\u001b[38;5;124mPublished: \u001b[39m\u001b[38;5;124m'\u001b[39m,\u001b[38;5;124m'\u001b[39m\u001b[38;5;124m'\u001b[39m)\u001b[38;5;241m.\u001b[39mstrip()\n\u001b[0;32m      6\u001b[0m date_lst \u001b[38;5;241m=\u001b[39m date_str\u001b[38;5;241m.\u001b[39msplit(\u001b[38;5;124m'\u001b[39m\u001b[38;5;124m \u001b[39m\u001b[38;5;124m'\u001b[39m)\n\u001b[0;32m      7\u001b[0m date_day \u001b[38;5;241m=\u001b[39m date_lst[\u001b[38;5;241m0\u001b[39m]\n",
      "\u001b[1;31mTypeError\u001b[0m: 'NoneType' object is not subscriptable"
     ]
    }
   ],
   "source": [
    "\n",
    "\n",
    "def get_acm_papers_page(soup: BeautifulSoup):\n",
    "    for item in soup.select(\"li.search__item\"):\n",
    "        publication_type = item.find(\"div.issue-heading\")\n",
    "        date = item.find(\"div.bookPubDate \")\n",
    "        date_str = date['data-title'].replace('Published: ','').strip()\n",
    "        date_lst = date_str.split(' ')\n",
    "        date_day = date_lst[0]\n",
    "        date_month = date_lst[1]\n",
    "        date_year = date_lst[2]\n",
    "        title_info = item.find(\".issue-item__title a\")\n",
    "        title = title_info.get_text(strip=True)\n",
    "        link = title_info['href']\n",
    "        print(date_str + ' - ' + title + ' - ' + link)\n",
    "\n",
    "def get_acm_papers(url):\n",
    "    response = requests.get(url, headers=headers)\n",
    "    if response.status_code != 200:\n",
    "        print(\"Failed to retrieve page\")\n",
    "        return []\n",
    "    \n",
    "    soup = BeautifulSoup(response.content, \"html.parser\")\n",
    "    result_count = get_total_query_results(soup)\n",
    "    print('Result count: ' + str(result_count))\n",
    "    get_acm_papers_page(soup)\n",
    "\n",
    "get_acm_papers(url_page)"
   ]
  }
 ],
 "metadata": {
  "kernelspec": {
   "display_name": "venv",
   "language": "python",
   "name": "python3"
  },
  "language_info": {
   "codemirror_mode": {
    "name": "ipython",
    "version": 3
   },
   "file_extension": ".py",
   "mimetype": "text/x-python",
   "name": "python",
   "nbconvert_exporter": "python",
   "pygments_lexer": "ipython3",
   "version": "3.13.0"
  }
 },
 "nbformat": 4,
 "nbformat_minor": 2
}
